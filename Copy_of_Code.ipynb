{
  "cells": [
    {
      "cell_type": "markdown",
      "metadata": {
        "id": "view-in-github",
        "colab_type": "text"
      },
      "source": [
        "<a href=\"https://colab.research.google.com/github/sooraj164/MachineLearning/blob/main/Copy_of_Code.ipynb\" target=\"_parent\"><img src=\"https://colab.research.google.com/assets/colab-badge.svg\" alt=\"Open In Colab\"/></a>"
      ]
    },
    {
      "cell_type": "code",
      "execution_count": 2,
      "metadata": {
        "id": "YY1hYrGk_rPw",
        "colab": {
          "base_uri": "https://localhost:8080/"
        },
        "outputId": "c77a3ca6-8141-4752-b178-c79099282a6a"
      },
      "outputs": [
        {
          "output_type": "stream",
          "name": "stdout",
          "text": [
            "Mounted at /content/drive\n"
          ]
        }
      ],
      "source": [
        "# connecting with google drive\n",
        "from google.colab import drive\n",
        "drive.mount('/content/drive')"
      ]
    },
    {
      "cell_type": "code",
      "execution_count": 1,
      "metadata": {
        "id": "IEIvq5vU98M0"
      },
      "outputs": [],
      "source": [
        "# necessary libraries\n",
        "import time\n",
        "import numpy as np\n",
        "import matplotlib.pyplot as plt\n",
        "import pandas as pd\n",
        "from sklearn.model_selection import train_test_split\n",
        "import seaborn as sns\n",
        "from sklearn.metrics import confusion_matrix, accuracy_score, precision_score, recall_score, f1_score\n",
        "\n",
        "import warnings\n",
        "warnings.filterwarnings('ignore')"
      ]
    },
    {
      "cell_type": "markdown",
      "source": [
        "## **Processing Labels**"
      ],
      "metadata": {
        "id": "Hug49Fn3JU2_"
      }
    },
    {
      "cell_type": "code",
      "execution_count": 3,
      "metadata": {
        "id": "YJNhbNpm98M0",
        "colab": {
          "base_uri": "https://localhost:8080/"
        },
        "outputId": "2aa18bd5-340f-4939-a734-633aa9cf27e2"
      },
      "outputs": [
        {
          "output_type": "stream",
          "name": "stdout",
          "text": [
            "/content/drive/MyDrive/Masters Project/processed_data/train_FD001.txt\n",
            "/content/drive/MyDrive/Masters Project/processed_data/train_FD002.txt\n",
            "/content/drive/MyDrive/Masters Project/processed_data/train_FD003.txt\n",
            "/content/drive/MyDrive/Masters Project/processed_data/train_FD004.txt\n",
            "/content/drive/MyDrive/Masters Project/processed_data/test_FD001.txt\n",
            "/content/drive/MyDrive/Masters Project/processed_data/test_FD002.txt\n",
            "/content/drive/MyDrive/Masters Project/processed_data/test_FD003.txt\n",
            "/content/drive/MyDrive/Masters Project/processed_data/test_FD004.txt\n"
          ]
        }
      ],
      "source": [
        "# path\n",
        "base=\"/content/drive/MyDrive/Masters Project/\"\n",
        "all_files_path = [base+\"data/train_FD001.txt\", base+\"data/train_FD002.txt\",\n",
        "              base+\"data/train_FD003.txt\", base+\"data/train_FD004.txt\",\n",
        "             base+ \"data/test_FD001.txt\", base+\"data/test_FD002.txt\",\n",
        "              base+\"data/test_FD003.txt\", base+\"data/test_FD004.txt\"]\n",
        "\n",
        "\n",
        "# iterating through all the files to fetch the training and testing data\n",
        "for path in all_files_path:\n",
        "\n",
        "  # loading file with heading\n",
        "  dataframe = pd.read_csv(path, sep=' ', header = None)\n",
        "\n",
        "  # dropping irrelevant data that comes due to file read\n",
        "  dataframe = dataframe.drop([26,27], axis='columns')\n",
        "\n",
        "  # adding column names to the dataframes\n",
        "  dataframe.columns = ['ID', 'Cycle', 'OpSet1', 'OpSet2', 'OpSet3',\n",
        "                       'SensorMeasure1', 'SensorMeasure2', 'SensorMeasure3', 'SensorMeasure4', 'SensorMeasure5', 'SensorMeasure6',\n",
        "                       'SensorMeasure7', 'SensorMeasure8', 'SensorMeasure9', 'SensorMeasure10', 'SensorMeasure11', 'SensorMeasure12',\n",
        "                       'SensorMeasure13', 'SensorMeasure14', 'SensorMeasure15', 'SensorMeasure16', 'SensorMeasure17', 'SensorMeasure18',\n",
        "                       'SensorMeasure19', 'SensorMeasure20', 'SensorMeasure21']\n",
        "\n",
        "  # defining end of life for each sample\n",
        "  eol=[]\n",
        "  for sample in dataframe['ID']:\n",
        "          eol.append( ((dataframe[dataframe['ID'] == sample][\"Cycle\"]).values)[-1])\n",
        "\n",
        "  # add this eol data as column in the dataframe\n",
        "  dataframe[\"EOL\"]=eol\n",
        "\n",
        "  # calculate the ratio of cycle with eol\n",
        "  dataframe[\"ratio\"] = dataframe[\"Cycle\"].div(dataframe[\"EOL\"])\n",
        "\n",
        "  # Drop ID and eol\n",
        "  dataframe=dataframe.drop(columns=['ID','EOL'])\n",
        "\n",
        "  #assign labels\n",
        "  labels=[]\n",
        "  for i in range (0,len(dataframe)):\n",
        "      if np.array(dataframe[\"ratio\"])[i] <= 0.6:\n",
        "          labels.append(0)\n",
        "      elif np.array(dataframe[\"ratio\"])[i] <= 0.8 :\n",
        "          labels.append(1)\n",
        "      else :\n",
        "          labels.append(2)\n",
        "\n",
        "  dataframe[\"labels\"]=labels\n",
        "  dataframe  = dataframe.drop(columns=['ratio'])\n",
        "  path = path.replace(\"data\", \"processed_data\")\n",
        "  print(path)\n",
        "  dataframe.to_csv(path, index=False)\n"
      ]
    },
    {
      "cell_type": "markdown",
      "source": [
        "* Classes defined as:\n",
        "\n",
        "Label 0: Good Condition\n",
        "\n",
        "Label 1: Moderate Condition\n",
        "\n",
        "Label 2: Warning Condition"
      ],
      "metadata": {
        "id": "nSLEJ3fV1bf1"
      }
    }
  ],
  "metadata": {
    "colab": {
      "provenance": [],
      "include_colab_link": true
    },
    "kernelspec": {
      "display_name": "Python 3",
      "name": "python3"
    },
    "language_info": {
      "codemirror_mode": {
        "name": "ipython",
        "version": 3
      },
      "file_extension": ".py",
      "mimetype": "text/x-python",
      "name": "python",
      "nbconvert_exporter": "python",
      "pygments_lexer": "ipython3",
      "version": "3.7.7"
    },
    "varInspector": {
      "cols": {
        "lenName": 16,
        "lenType": 16,
        "lenVar": 40
      },
      "kernels_config": {
        "python": {
          "delete_cmd_postfix": "",
          "delete_cmd_prefix": "del ",
          "library": "var_list.py",
          "varRefreshCmd": "print(var_dic_list())"
        },
        "r": {
          "delete_cmd_postfix": ") ",
          "delete_cmd_prefix": "rm(",
          "library": "var_list.r",
          "varRefreshCmd": "cat(var_dic_list()) "
        }
      },
      "types_to_exclude": [
        "module",
        "function",
        "builtin_function_or_method",
        "instance",
        "_Feature"
      ],
      "window_display": false
    },
    "accelerator": "TPU"
  },
  "nbformat": 4,
  "nbformat_minor": 0
}